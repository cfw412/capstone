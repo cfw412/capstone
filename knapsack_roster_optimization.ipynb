{
 "cells": [
  {
   "cell_type": "code",
   "execution_count": null,
   "metadata": {},
   "outputs": [],
   "source": [
    "import itertools"
   ]
  },
  {
   "cell_type": "code",
   "execution_count": null,
   "metadata": {},
   "outputs": [],
   "source": [
    "# define the number of players, budget, and roster size\n",
    "num_players = 10\n",
    "budget = 10\n",
    "roster_size = 25"
   ]
  },
  {
   "cell_type": "code",
   "execution_count": null,
   "metadata": {},
   "outputs": [],
   "source": [
    "# define the player data\n",
    "# each player is represented as a tuple (salary, skill level)\n",
    "players = [(1, 8), (1.5, 9), (2, 7), (2.5, 8), (3, 6),\n",
    "           (3.5, 7), (4, 8), (4.5, 9), (5, 7), (5.5, 8)]"
   ]
  },
  {
   "cell_type": "code",
   "execution_count": null,
   "metadata": {},
   "outputs": [],
   "source": [
    "# create a list of all possible combinations of players\n",
    "# (each combination is represented as a binary string of length num_players)\n",
    "combinations = [\"\".join(seq)\n",
    "                for seq in itertools.product(\"01\", repeat=num_players)]"
   ]
  },
  {
   "cell_type": "code",
   "execution_count": null,
   "metadata": {},
   "outputs": [],
   "source": [
    "# initialize the maximum skill level and the corresponding combination of players\n",
    "max_skill_level = 0\n",
    "best_combination = None\n",
    "\n",
    "# iterate over all combinations of players\n",
    "for combination in combinations:\n",
    "    # initialize the total salary and skill level for this combination\n",
    "    total_salary = 0\n",
    "    total_skill_level = 0\n",
    "\n",
    "    # iterate over each player in the combination\n",
    "    for i in range(num_players):\n",
    "        # check if the player is included in the combination (1) or not (0)\n",
    "        if combination[i] == \"1\":\n",
    "            # if the player is included, add their salary and skill level to the totals\n",
    "            salary, skill_level = players[i]\n",
    "            total_salary += salary\n",
    "            total_skill_level += skill_level\n",
    "\n",
    "    # check if this combination stays within the budget and roster size constraints\n",
    "    # and if the total skill level is greater than the current maximum\n",
    "    if total_salary <= budget and total_skill_level > max_skill_level:\n",
    "        # if so, update the maximum skill level and the best combination of players\n",
    "        max_skill_level = total_skill_level\n",
    "        best_combination = combination"
   ]
  },
  {
   "cell_type": "code",
   "execution_count": null,
   "metadata": {},
   "outputs": [],
   "source": [
    "# print the results\n",
    "print(f\"Maximum skill level: {max_skill_level}\")\n",
    "print(\"Best combination of players:\")\n",
    "for i in range(num_players):\n",
    "    if best_combination[i] == \"1\":\n",
    "        print(f\"- {players[i][0]:.1f} million, skill level {players[i][1]}\")"
   ]
  },
  {
   "cell_type": "code",
   "execution_count": null,
   "metadata": {},
   "outputs": [],
   "source": []
  },
  {
   "cell_type": "code",
   "execution_count": null,
   "metadata": {},
   "outputs": [],
   "source": []
  },
  {
   "cell_type": "code",
   "execution_count": null,
   "metadata": {},
   "outputs": [],
   "source": []
  },
  {
   "cell_type": "code",
   "execution_count": null,
   "metadata": {},
   "outputs": [],
   "source": []
  },
  {
   "cell_type": "code",
   "execution_count": null,
   "metadata": {},
   "outputs": [],
   "source": []
  },
  {
   "cell_type": "code",
   "execution_count": null,
   "metadata": {},
   "outputs": [],
   "source": []
  }
 ],
 "metadata": {
  "kernelspec": {
   "display_name": "Python 3",
   "language": "python",
   "name": "python3"
  },
  "language_info": {
   "name": "python",
   "version": "3.8.5 (default, Sep  4 2020, 02:22:02) \n[Clang 10.0.0 ]"
  },
  "orig_nbformat": 4,
  "vscode": {
   "interpreter": {
    "hash": "40d3a090f54c6569ab1632332b64b2c03c39dcf918b08424e98f38b5ae0af88f"
   }
  }
 },
 "nbformat": 4,
 "nbformat_minor": 2
}
