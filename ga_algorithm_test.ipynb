{
 "cells": [
  {
   "cell_type": "code",
   "execution_count": null,
   "metadata": {},
   "outputs": [],
   "source": [
    "import pandas as pd\n",
    "import numpy as np\n",
    "import random\n",
    "# from pygad import GA\n",
    "# from deap import algorithms\n",
    "# from deap import base\n",
    "# from deap import creator\n",
    "# from deap import tools\n"
   ]
  },
  {
   "cell_type": "code",
   "execution_count": null,
   "metadata": {},
   "outputs": [],
   "source": [
    "# generate random weights and values for a knapsack problem\n",
    "\n",
    "Player_Data = pd.read_csv('Player_Data.csv')\n",
    "Player_Data[['Base_Salary', 'Guaranteed_Compensation']] = Player_Data[['Base_Salary', \n",
    "                                                                        'Guaranteed_Compensation']].astype(int)\n",
    "Player_Data[['Goals_Added', 'Log_Goals_Added']] = Player_Data[['Goals_Added',\n",
    "                                                            'Log_Goals_Added']].astype(float)\n",
    "\n",
    "np.random.seed(seed=123) \n"
   ]
  },
  {
   "cell_type": "code",
   "execution_count": 564,
   "metadata": {},
   "outputs": [
    {
     "name": "stdout",
     "output_type": "stream",
     "text": [
      "[False, True, False, False, False, False, False, False, False, False, False, False, False, False, False, False, False, False, False, False]\n"
     ]
    }
   ],
   "source": [
    "def random_boolean_array(n, limit):\n",
    "    # return [random.choice([True, False]) for _ in range(n)][:limit] + [False] * (n - limit)\n",
    "\n",
    "    true_values = [True] * random.randint(1, limit + 1)\n",
    "    remaining_values = [False] * (n - len(true_values))\n",
    "    return random.sample(true_values + remaining_values, n)\n",
    "\n",
    "num_items = 20\n",
    "max_tot_weight = 700000\n",
    "values = Player_Data.head(num_items).loc[:,\"Log_Goals_Added\"]\n",
    "weights = Player_Data.head(num_items).loc[:, \"Guaranteed_Compensation\"]\n",
    "sample_x = random.sample(random_boolean_array(20, 2), 20)\n",
    "\n",
    "print(sample_x)"
   ]
  },
  {
   "cell_type": "code",
   "execution_count": 562,
   "metadata": {},
   "outputs": [
    {
     "data": {
      "text/html": [
       "<div>\n",
       "<style scoped>\n",
       "    .dataframe tbody tr th:only-of-type {\n",
       "        vertical-align: middle;\n",
       "    }\n",
       "\n",
       "    .dataframe tbody tr th {\n",
       "        vertical-align: top;\n",
       "    }\n",
       "\n",
       "    .dataframe thead th {\n",
       "        text-align: right;\n",
       "    }\n",
       "</style>\n",
       "<table border=\"1\" class=\"dataframe\">\n",
       "  <thead>\n",
       "    <tr style=\"text-align: right;\">\n",
       "      <th></th>\n",
       "      <th>Player</th>\n",
       "      <th>Guaranteed_Compensation</th>\n",
       "      <th>Log_Goals_Added</th>\n",
       "    </tr>\n",
       "  </thead>\n",
       "  <tbody>\n",
       "    <tr>\n",
       "      <th>0</th>\n",
       "      <td>Hany Mukhtar</td>\n",
       "      <td>1926250</td>\n",
       "      <td>0.993877</td>\n",
       "    </tr>\n",
       "    <tr>\n",
       "      <th>3</th>\n",
       "      <td>Diego Rubio</td>\n",
       "      <td>629583</td>\n",
       "      <td>0.906335</td>\n",
       "    </tr>\n",
       "    <tr>\n",
       "      <th>14</th>\n",
       "      <td>Valentín Castellanos</td>\n",
       "      <td>1076000</td>\n",
       "      <td>0.832509</td>\n",
       "    </tr>\n",
       "  </tbody>\n",
       "</table>\n",
       "</div>"
      ],
      "text/plain": [
       "                  Player  Guaranteed_Compensation  Log_Goals_Added\n",
       "0           Hany Mukhtar                  1926250         0.993877\n",
       "3            Diego Rubio                   629583         0.906335\n",
       "14  Valentín Castellanos                  1076000         0.832509"
      ]
     },
     "execution_count": 562,
     "metadata": {},
     "output_type": "execute_result"
    }
   ],
   "source": [
    "player_data = Player_Data[['Player', 'Guaranteed_Compensation', 'Log_Goals_Added']].head(20)\n",
    "player_data[sample_x]"
   ]
  },
  {
   "cell_type": "code",
   "execution_count": 565,
   "metadata": {},
   "outputs": [
    {
     "data": {
      "text/plain": [
       "-49696425.12969093"
      ]
     },
     "execution_count": 565,
     "metadata": {},
     "output_type": "execute_result"
    }
   ],
   "source": [
    "def obj_knapsack(x, values, weights, max_tot_weight):\n",
    "    # x is a vector of booleans of which items to include\n",
    "    tot_value = sum(values[x])\n",
    "    penalty = sum(values)*min(max_tot_weight - sum(weights[x]), 0)\n",
    "    return tot_value+penalty\n",
    "\n",
    "\n",
    "obj_knapsack(sample_x, values, weights, max_tot_weight)\n"
   ]
  },
  {
   "cell_type": "code",
   "execution_count": null,
   "metadata": {},
   "outputs": [],
   "source": [
    "\n",
    "# def obj_knapsack(individual, values, weights, max_tot_weight):\n",
    "#     # x is a vector of booleans of which items to include\n",
    "#     tot_value = sum(values[individual])\n",
    "#     penalty = sum(values)*min(max_tot_weight - sum(weights[individual]), 0)\n",
    "#     return tot_value + penalty,\n",
    "\n",
    "# def optimize_knapsack(values, weights, max_tot_weight):\n",
    "#     # Define the individual and population types\n",
    "#     creator.create(\"FitnessMax\", base.Fitness, weights=(1.0,))\n",
    "#     creator.create(\"Individual\", numpy.ndarray, fitness=creator.FitnessMax)\n",
    "\n",
    "#     # Initialize the toolbox\n",
    "#     toolbox = base.Toolbox()\n",
    "#     toolbox.register(\"attr_bool\", random.randint, 0, 1)\n",
    "#     toolbox.register(\"individual\", tools.initRepeat, creator.Individual, toolbox.attr_bool, n=len(values))\n",
    "#     toolbox.register(\"population\", tools.initRepeat, list, toolbox.individual)\n",
    "#     toolbox.register(\"evaluate\", obj_knapsack, values=values, weights=weights, max_tot_weight=max_tot_weight)\n",
    "#     toolbox.register(\"mate\", tools.cxTwoPoint)\n",
    "#     toolbox.register(\"mutate\", tools.mutFlipBit, indpb=0.05)\n",
    "#     toolbox.register(\"select\", tools.selTournament, tournsize=3)\n",
    "\n",
    "#     # Run the genetic algorithm\n",
    "#     pop = toolbox.population(n=50)\n",
    "#     hof = tools.HallOfFame(1)\n",
    "#     stats = tools.Statistics(lambda ind: ind.fitness.values)\n",
    "#     stats.register(\"avg\", numpy.mean)\n",
    "#     stats.register(\"std\", numpy.std)\n",
    "#     stats.register(\"min\", numpy.min)\n",
    "#     stats.register(\"max\", numpy.max)\n",
    "\n",
    "#     pop, log = algorithms.eaSimple(pop, toolbox, cxpb=0.5, mutpb=0.2, ngen=40, stats=stats, halloffame=hof)\n",
    "\n",
    "#     # Return the best individual\n",
    "#     return hof[0]\n",
    "\n",
    "# # Example usage\n",
    "# values = [1, 4, 5, 3]\n",
    "# weights = [1, 2, 3, 2]\n",
    "# max_tot_weight = 5\n",
    "\n",
    "# x_opt = optimize_knapsack(values, weights, max_tot_weight)\n",
    "# print(x_opt)\n"
   ]
  },
  {
   "cell_type": "code",
   "execution_count": null,
   "metadata": {},
   "outputs": [],
   "source": [
    "\n",
    "# def obj_knapsack(individual, values, weights, max_tot_weight):\n",
    "#     # x is a vector of booleans of which items to include\n",
    "#     tot_value = sum(values[individual])\n",
    "#     penalty = sum(values)*min(max_tot_weight - sum(weights[individual]), 0)\n",
    "#     return tot_value + penalty\n",
    "\n",
    "\n",
    "# def optimize_knapsack(values, weights, max_tot_weight):\n",
    "#     n = len(values)\n",
    "#     params = {\n",
    "#         \"num_generations\": 50,\n",
    "#         \"population_size\": 50,\n",
    "#         \"num_parents_mating\": 10,\n",
    "#         \"mutation_percent_genes\": 5,\n",
    "#         \"crossover_type\": 'single_point',\n",
    "#         \"function_tolerance\": 1e-6\n",
    "#     }\n",
    "\n",
    "#     ga = GA(num_generations=params['num_generations'],\n",
    "#             population_size=params['population_size'],\n",
    "#             num_parents_mating=params['num_parents_mating'],\n",
    "#             mutation_percent_genes=params['mutation_percent_genes'],\n",
    "#             crossover_type=params['crossover_type'],\n",
    "#             function_tolerance=params['function_tolerance'])\n",
    "\n",
    "#     x_opt = ga.run(obj_knapsack, values=values, weights=weights,\n",
    "#                    max_tot_weight=max_tot_weight)\n",
    "#     return x_opt\n",
    "\n",
    "\n",
    "# # Example usage\n",
    "# # values = [1, 4, 5, 3]\n",
    "# # weights = [1, 2, 3, 2]\n",
    "# # max_tot_weight = 5\n",
    "\n",
    "# x_opt = optimize_knapsack(values, weights, max_tot_weight)\n",
    "# print(x_opt)\n"
   ]
  }
 ],
 "metadata": {
  "kernelspec": {
   "display_name": "Python 3",
   "language": "python",
   "name": "python3"
  },
  "language_info": {
   "codemirror_mode": {
    "name": "ipython",
    "version": 3
   },
   "file_extension": ".py",
   "mimetype": "text/x-python",
   "name": "python",
   "nbconvert_exporter": "python",
   "pygments_lexer": "ipython3",
   "version": "3.8.2 (default, Jun  8 2021, 11:59:35) \n[Clang 12.0.5 (clang-1205.0.22.11)]"
  },
  "orig_nbformat": 4,
  "vscode": {
   "interpreter": {
    "hash": "31f2aee4e71d21fbe5cf8b01ff0e069b9275f58929596ceb00d14d90e3e16cd6"
   }
  }
 },
 "nbformat": 4,
 "nbformat_minor": 2
}
