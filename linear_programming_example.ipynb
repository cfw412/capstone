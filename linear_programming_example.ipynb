{
 "cells": [
  {
   "attachments": {},
   "cell_type": "markdown",
   "metadata": {},
   "source": [
    "# Linear Programming Applied to Roster Management\n",
    "\n",
    "##### *This approach is not appropriately separating the constraints of the number of players vs the cost of the players* "
   ]
  },
  {
   "cell_type": "code",
   "execution_count": 23,
   "metadata": {},
   "outputs": [],
   "source": [
    "# Import the PuLP library\n",
    "import pulp as pu"
   ]
  },
  {
   "cell_type": "code",
   "execution_count": 24,
   "metadata": {},
   "outputs": [],
   "source": [
    "# Create the LP problem\n",
    "prob = pu.LpProblem(\"Soccer Roster Problem\", pu.LpMaximize)\n",
    "\n",
    "# Define the variables\n",
    "f = pu.LpVariable(\"x1\", lowBound=0, cat=\"Integer\")  # number of forwards\n",
    "m = pu.LpVariable(\"x2\", lowBound=0, cat=\"Integer\")  # number of midfielders\n",
    "d = pu.LpVariable(\"x3\", lowBound=0, cat=\"Integer\")  # number of defenders\n",
    "gk = pu.LpVariable(\"x4\", lowBound=0, cat=\"Integer\")  # number of goalkeepers\n"
   ]
  },
  {
   "attachments": {},
   "cell_type": "markdown",
   "metadata": {},
   "source": [
    "---"
   ]
  },
  {
   "attachments": {},
   "cell_type": "markdown",
   "metadata": {},
   "source": [
    "The objective function is defined as $100x1 + 120x2 + 110x3 + 90x4$ which represents the total salary of the team. The first constraint, $x1 + x2 + x3 + x4 == 11$,  ensures that the number of players on the team is 11. The second constraint, 100x1 + 120x2 + 110x3 + 90x4 <= 1000000, ensures that the total salary of the team does not exceed $1,000,000.\n",
    "\n",
    "In this objective function, the constants represent the cost of a given player at that position (f, m, d, gk). Since these costs are variable this may not be the best approach."
   ]
  },
  {
   "cell_type": "code",
   "execution_count": 25,
   "metadata": {},
   "outputs": [],
   "source": [
    "# Define the objective function\n",
    "prob += 100*f + 120*m + 110*d + 90*gk, \"Objective Function\""
   ]
  },
  {
   "attachments": {},
   "cell_type": "markdown",
   "metadata": {},
   "source": [
    "---"
   ]
  },
  {
   "attachments": {},
   "cell_type": "markdown",
   "metadata": {},
   "source": [
    "In this example, we are trying to maximize the total salary of the soccer team, subject to the constraints that the team must have 11 players and the total salary must not exceed \\$1,000,000.\n",
    "\n",
    "This value can be parameterized and it can also be based on position\n",
    "- `prob += x1 == num`"
   ]
  },
  {
   "cell_type": "code",
   "execution_count": 26,
   "metadata": {},
   "outputs": [],
   "source": [
    "# Define the constraints\n",
    "prob += f + m + d + gk == 26, \"Number of Players Constraint\""
   ]
  },
  {
   "attachments": {},
   "cell_type": "markdown",
   "metadata": {},
   "source": [
    "---"
   ]
  },
  {
   "attachments": {},
   "cell_type": "markdown",
   "metadata": {},
   "source": [
    "Budget constraint of \\$15 mil"
   ]
  },
  {
   "cell_type": "code",
   "execution_count": 27,
   "metadata": {},
   "outputs": [],
   "source": [
    "prob += 100*f + 120*m + 110*d + 90*gk <= 15000000, \"Budget Constraint\""
   ]
  },
  {
   "cell_type": "markdown",
   "metadata": {},
   "source": [
    "---"
   ]
  },
  {
   "cell_type": "code",
   "execution_count": 28,
   "metadata": {},
   "outputs": [],
   "source": [
    "prob += 100*f >= 3500000, \"Money Spent on Forwards\"\n",
    "prob += 120*m >= 2750000, \"Money Spent on Midfielders\"\n",
    "prob += 110*d >= 1650000, \"Money Spent on Defenders\"\n",
    "prob += 90*gk >= 1425000, \"Money Spent on Goalkeepers\"\n"
   ]
  },
  {
   "cell_type": "code",
   "execution_count": 29,
   "metadata": {},
   "outputs": [
    {
     "data": {
      "text/plain": [
       "-1"
      ]
     },
     "execution_count": 29,
     "metadata": {},
     "output_type": "execute_result"
    }
   ],
   "source": [
    "# Solve the problem\n",
    "prob.solve()"
   ]
  },
  {
   "attachments": {},
   "cell_type": "markdown",
   "metadata": {},
   "source": [
    "##### The below results will not completely make sense because the constraints are not yet set up properly"
   ]
  },
  {
   "cell_type": "code",
   "execution_count": 30,
   "metadata": {},
   "outputs": [
    {
     "name": "stdout",
     "output_type": "stream",
     "text": [
      "Solution:\n",
      "Forwards = 35000.0\n",
      "Midfielders = -34974.0\n",
      "Defenders = 0.0\n",
      "Goalkeepers = 0.0\n"
     ]
    }
   ],
   "source": [
    "# Print the solution\n",
    "print(\"Solution:\")\n",
    "print(f\"Forwards = {f.value()}\")\n",
    "print(f\"Midfielders = {m.value()}\")\n",
    "print(f\"Defenders = {d.value()}\")\n",
    "print(f\"Goalkeepers = {gk.value()}\")"
   ]
  }
 ],
 "metadata": {
  "kernelspec": {
   "display_name": "Python 3",
   "language": "python",
   "name": "python3"
  },
  "language_info": {
   "codemirror_mode": {
    "name": "ipython",
    "version": 3
   },
   "file_extension": ".py",
   "mimetype": "text/x-python",
   "name": "python",
   "nbconvert_exporter": "python",
   "pygments_lexer": "ipython3",
   "version": "3.8.5"
  },
  "orig_nbformat": 4,
  "vscode": {
   "interpreter": {
    "hash": "40d3a090f54c6569ab1632332b64b2c03c39dcf918b08424e98f38b5ae0af88f"
   }
  }
 },
 "nbformat": 4,
 "nbformat_minor": 2
}
